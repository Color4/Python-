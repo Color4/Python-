{
 "cells": [
  {
   "cell_type": "markdown",
   "metadata": {},
   "source": [
    "### fast weighted random sampling (python)\n",
    "- w=Weight_Random_Sample(D) # initialize a sampler with a dictionary object whose keys are to be sampled and the values are the weights of the keys. \n",
    "- w.spl(n) # generate a sample of population n."
   ]
  },
  {
   "cell_type": "code",
   "execution_count": 2,
   "metadata": {
    "collapsed": true
   },
   "outputs": [],
   "source": [
    "import numpy as np\n",
    "import time\n",
    "from random import sample as rand_sample"
   ]
  },
  {
   "cell_type": "code",
   "execution_count": 3,
   "metadata": {
    "collapsed": true
   },
   "outputs": [],
   "source": [
    "class Weight_Random_Sample:\n",
    "    def __init__(self,Dict):\n",
    "        self.probs =[]\n",
    "        self.keys =[]\n",
    "        nk = 0\n",
    "        for k in Dict:\n",
    "            self.probs.append(Dict[k])\n",
    "            self.keys[nk] =k\n",
    "            nk += 1\n",
    "        self.probs = np.array(self.probs, dtype=float)\n",
    "        self.probs = self.probs/ self.probs.sum()\n",
    "        self.setup()\n",
    "    def setup(self):\n",
    "        K = len(self.probs)\n",
    "        q = np.zeros(K)\n",
    "        J = np.zeros(K, dtype = int)\n",
    "        \n",
    "        # sort the data into the outcomes with probabilities\n",
    "        # that are larger and smaller than 1/K\n",
    "        smaller =[]\n",
    "        larger =[]\n",
    "        for kk, prob in enumerate(self.probs):\n",
    "            q[kk] = K*prob\n",
    "            if q[kk] <1.0:\n",
    "                smaller.append(kk)\n",
    "            else:\n",
    "                larger.append(kk)\n",
    "                \n",
    "        # Loop through and create little binary mixtures that \n",
    "        # appropriately allocate the larger outcomes over the overall uniform mixture\n",
    "        while len(smaller) >0 and len(larger) >0:\n",
    "            samll = smaller.pop\n",
    "            large = larger.pop\n",
    "            \n",
    "            J[small] = large\n",
    "            q[large] =q[large] + q[samll]-1.0\n",
    "            \n",
    "            if q[large] <1:\n",
    "                smaller.append(large)\n",
    "            else:\n",
    "                larger.append(large)\n",
    "                \n",
    "        self.J = J\n",
    "        self.q = q\n",
    "    \n",
    "    def draw(self):\n",
    "        K = len(self.J)\n",
    "        \n",
    "        # Draw from the overall uniform mixture\n",
    "        kk = int(floor(random.rand()*K))\n",
    "        \n",
    "        # Draw from the binary mixture, either keeping the small one,\n",
    "        # or choosing the associated larger one.\n",
    "        if random.rand() < self.q[kk]:\n",
    "            return self.keys[kk]\n",
    "        else:\n",
    "            return self.keys[self.J[kk]]\n",
    "        \n",
    "    def spl(self, n, timing =False, nopref=False):\n",
    "        if timing:\n",
    "            tic = time.time()\n",
    "        # Generate variates\n",
    "        if nopref:\n",
    "            X = rand_sample(self.keys.values(),n)\n",
    "        else:\n",
    "            X = []\n",
    "            for nn in xrange(n):\n",
    "                X.append(self.draw())\n",
    "                \n",
    "        if timing:\n",
    "            print(\"Time elapsed:\"+str(time.time()-tic))\n",
    "        return X"
   ]
  },
  {
   "cell_type": "code",
   "execution_count": null,
   "metadata": {
    "collapsed": true
   },
   "outputs": [],
   "source": []
  }
 ],
 "metadata": {
  "kernelspec": {
   "display_name": "Python 3",
   "language": "python",
   "name": "python3"
  },
  "language_info": {
   "codemirror_mode": {
    "name": "ipython",
    "version": 3
   },
   "file_extension": ".py",
   "mimetype": "text/x-python",
   "name": "python",
   "nbconvert_exporter": "python",
   "pygments_lexer": "ipython3",
   "version": "3.6.4"
  }
 },
 "nbformat": 4,
 "nbformat_minor": 2
}
