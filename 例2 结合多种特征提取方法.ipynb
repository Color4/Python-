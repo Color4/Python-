{
 "cells": [
  {
   "cell_type": "markdown",
   "metadata": {},
   "source": [
    "我们可以通过结合多种特征提取方法获得更好的结果。这个例子主要介绍如何使用 FeatureUnion结合通过PCA获得的特征。\n",
    "这个方法的优点是：它允许交叉验证和结合Grid搜索方法"
   ]
  },
  {
   "cell_type": "code",
   "execution_count": 2,
   "metadata": {
    "collapsed": true
   },
   "outputs": [],
   "source": [
    "#原作者\n",
    "# Author: Andreas Mueller <amueller@ais.uni-bonn.de>\n",
    "#\n",
    "# License: BSD 3 clause"
   ]
  },
  {
   "cell_type": "code",
   "execution_count": 3,
   "metadata": {
    "collapsed": true
   },
   "outputs": [],
   "source": [
    "from sklearn.pipeline import Pipeline, FeatureUnion\n",
    "from sklearn.model_selection import GridSearchCV\n",
    "from sklearn.svm import SVC\n",
    "from sklearn.datasets import load_iris\n",
    "from sklearn.decomposition import PCA\n",
    "from sklearn.feature_selection import SelectKBest"
   ]
  },
  {
   "cell_type": "code",
   "execution_count": 4,
   "metadata": {
    "collapsed": true
   },
   "outputs": [],
   "source": [
    "iris = load_iris()"
   ]
  },
  {
   "cell_type": "code",
   "execution_count": 5,
   "metadata": {
    "collapsed": true
   },
   "outputs": [],
   "source": [
    "X, y = iris.data, iris.target"
   ]
  },
  {
   "cell_type": "markdown",
   "metadata": {},
   "source": [
    "进行主成分分析PCA，降低数据维度"
   ]
  },
  {
   "cell_type": "code",
   "execution_count": 6,
   "metadata": {
    "collapsed": true
   },
   "outputs": [],
   "source": [
    "pca = PCA(n_components=2)"
   ]
  },
  {
   "cell_type": "markdown",
   "metadata": {},
   "source": [
    "也许某些原始的特征也非常不错。可以选出来"
   ]
  },
  {
   "cell_type": "code",
   "execution_count": 7,
   "metadata": {
    "collapsed": true
   },
   "outputs": [],
   "source": [
    "selection = SelectKBest(k=1)"
   ]
  },
  {
   "cell_type": "markdown",
   "metadata": {},
   "source": [
    "建立综合的特征指标"
   ]
  },
  {
   "cell_type": "code",
   "execution_count": 9,
   "metadata": {},
   "outputs": [],
   "source": [
    "combined_features = FeatureUnion([(\"pca\", pca), (\"univ_select\", selection)])"
   ]
  },
  {
   "cell_type": "markdown",
   "metadata": {},
   "source": [
    "用联合的特征转化数据, 算法选择的是 SVM"
   ]
  },
  {
   "cell_type": "code",
   "execution_count": 11,
   "metadata": {},
   "outputs": [],
   "source": [
    "X_features = combined_features.fit(X,y).transform(X)\n",
    "svm = SVC(kernel = 'linear')"
   ]
  },
  {
   "cell_type": "markdown",
   "metadata": {},
   "source": [
    "对 k, n_components 和 C 使用网格搜索Grid "
   ]
  },
  {
   "cell_type": "code",
   "execution_count": 14,
   "metadata": {
    "collapsed": true
   },
   "outputs": [],
   "source": [
    "pipeline = Pipeline([(\"features\", combined_features),(\"svm\", svm)])"
   ]
  },
  {
   "cell_type": "code",
   "execution_count": 17,
   "metadata": {
    "collapsed": true
   },
   "outputs": [],
   "source": [
    "param_grid = dict(features__pca__n_components=[1, 2, 3],\n",
    "                  features__univ_select__k=[1, 2],\n",
    "                  svm__C=[0.1, 1, 10])"
   ]
  },
  {
   "cell_type": "code",
   "execution_count": 18,
   "metadata": {},
   "outputs": [
    {
     "name": "stdout",
     "output_type": "stream",
     "text": [
      "Fitting 3 folds for each of 18 candidates, totalling 54 fits\n",
      "[CV] features__pca__n_components=1, features__univ_select__k=1, svm__C=0.1 \n",
      "[CV]  features__pca__n_components=1, features__univ_select__k=1, svm__C=0.1, score=0.9607843137254902, total=   0.0s\n",
      "[CV] features__pca__n_components=1, features__univ_select__k=1, svm__C=0.1 \n",
      "[CV]  features__pca__n_components=1, features__univ_select__k=1, svm__C=0.1, score=0.9019607843137255, total=   0.0s\n",
      "[CV] features__pca__n_components=1, features__univ_select__k=1, svm__C=0.1 \n",
      "[CV]  features__pca__n_components=1, features__univ_select__k=1, svm__C=0.1, score=0.9791666666666666, total=   0.0s\n",
      "[CV] features__pca__n_components=1, features__univ_select__k=1, svm__C=1 \n",
      "[CV]  features__pca__n_components=1, features__univ_select__k=1, svm__C=1, score=0.9411764705882353, total=   0.0s\n",
      "[CV] features__pca__n_components=1, features__univ_select__k=1, svm__C=1 \n",
      "[CV]  features__pca__n_components=1, features__univ_select__k=1, svm__C=1, score=0.9215686274509803, total=   0.0s\n",
      "[CV] features__pca__n_components=1, features__univ_select__k=1, svm__C=1 \n",
      "[CV]  features__pca__n_components=1, features__univ_select__k=1, svm__C=1, score=0.9791666666666666, total=   0.0s\n",
      "[CV] features__pca__n_components=1, features__univ_select__k=1, svm__C=10 \n",
      "[CV]  features__pca__n_components=1, features__univ_select__k=1, svm__C=10, score=0.9607843137254902, total=   0.0s\n",
      "[CV] features__pca__n_components=1, features__univ_select__k=1, svm__C=10 \n",
      "[CV]  features__pca__n_components=1, features__univ_select__k=1, svm__C=10, score=0.9215686274509803, total=   0.0s\n",
      "[CV] features__pca__n_components=1, features__univ_select__k=1, svm__C=10 \n",
      "[CV]  features__pca__n_components=1, features__univ_select__k=1, svm__C=10, score=0.9791666666666666, total=   0.0s\n",
      "[CV] features__pca__n_components=1, features__univ_select__k=2, svm__C=0.1 \n",
      "[CV]  features__pca__n_components=1, features__univ_select__k=2, svm__C=0.1, score=0.9607843137254902, total=   0.0s\n",
      "[CV] features__pca__n_components=1, features__univ_select__k=2, svm__C=0.1 \n",
      "[CV]  features__pca__n_components=1, features__univ_select__k=2, svm__C=0.1, score=0.9215686274509803, total=   0.0s\n",
      "[CV] features__pca__n_components=1, features__univ_select__k=2, svm__C=0.1 \n",
      "[CV]  features__pca__n_components=1, features__univ_select__k=2, svm__C=0.1, score=0.9791666666666666, total=   0.0s\n",
      "[CV] features__pca__n_components=1, features__univ_select__k=2, svm__C=1 \n",
      "[CV]  features__pca__n_components=1, features__univ_select__k=2, svm__C=1, score=0.9607843137254902, total=   0.0s\n",
      "[CV] features__pca__n_components=1, features__univ_select__k=2, svm__C=1 \n",
      "[CV]  features__pca__n_components=1, features__univ_select__k=2, svm__C=1, score=0.9215686274509803, total=   0.0s\n",
      "[CV] features__pca__n_components=1, features__univ_select__k=2, svm__C=1 \n",
      "[CV]  features__pca__n_components=1, features__univ_select__k=2, svm__C=1, score=1.0, total=   0.0s\n",
      "[CV] features__pca__n_components=1, features__univ_select__k=2, svm__C=10 \n",
      "[CV]  features__pca__n_components=1, features__univ_select__k=2, svm__C=10, score=0.9803921568627451, total=   0.0s\n",
      "[CV] features__pca__n_components=1, features__univ_select__k=2, svm__C=10 \n",
      "[CV]  features__pca__n_components=1, features__univ_select__k=2, svm__C=10, score=0.9019607843137255, total=   0.0s\n",
      "[CV] features__pca__n_components=1, features__univ_select__k=2, svm__C=10 \n",
      "[CV]  features__pca__n_components=1, features__univ_select__k=2, svm__C=10, score=1.0, total=   0.0s\n",
      "[CV] features__pca__n_components=2, features__univ_select__k=1, svm__C=0.1 \n",
      "[CV]  features__pca__n_components=2, features__univ_select__k=1, svm__C=0.1, score=0.9607843137254902, total=   0.0s\n",
      "[CV] features__pca__n_components=2, features__univ_select__k=1, svm__C=0.1 \n",
      "[CV]  features__pca__n_components=2, features__univ_select__k=1, svm__C=0.1, score=0.9019607843137255, total=   0.0s\n",
      "[CV] features__pca__n_components=2, features__univ_select__k=1, svm__C=0.1 \n",
      "[CV]  features__pca__n_components=2, features__univ_select__k=1, svm__C=0.1, score=0.9791666666666666, total=   0.0s\n",
      "[CV] features__pca__n_components=2, features__univ_select__k=1, svm__C=1 \n",
      "[CV]  features__pca__n_components=2, features__univ_select__k=1, svm__C=1, score=0.9803921568627451, total=   0.0s\n",
      "[CV] features__pca__n_components=2, features__univ_select__k=1, svm__C=1 \n",
      "[CV]  features__pca__n_components=2, features__univ_select__k=1, svm__C=1, score=0.9411764705882353, total=   0.0s\n",
      "[CV] features__pca__n_components=2, features__univ_select__k=1, svm__C=1 \n",
      "[CV]  features__pca__n_components=2, features__univ_select__k=1, svm__C=1, score=0.9791666666666666, total=   0.0s\n",
      "[CV] features__pca__n_components=2, features__univ_select__k=1, svm__C=10 \n",
      "[CV]  features__pca__n_components=2, features__univ_select__k=1, svm__C=10, score=0.9803921568627451, total=   0.0s\n",
      "[CV] features__pca__n_components=2, features__univ_select__k=1, svm__C=10 "
     ]
    },
    {
     "name": "stderr",
     "output_type": "stream",
     "text": [
      "[Parallel(n_jobs=1)]: Done   1 out of   1 | elapsed:    0.0s remaining:    0.0s\n",
      "[Parallel(n_jobs=1)]: Done   2 out of   2 | elapsed:    0.0s remaining:    0.0s\n",
      "[Parallel(n_jobs=1)]: Done   3 out of   3 | elapsed:    0.0s remaining:    0.0s\n",
      "[Parallel(n_jobs=1)]: Done   4 out of   4 | elapsed:    0.0s remaining:    0.0s\n",
      "[Parallel(n_jobs=1)]: Done   5 out of   5 | elapsed:    0.0s remaining:    0.0s\n",
      "[Parallel(n_jobs=1)]: Done   6 out of   6 | elapsed:    0.0s remaining:    0.0s\n",
      "[Parallel(n_jobs=1)]: Done   7 out of   7 | elapsed:    0.0s remaining:    0.0s\n",
      "[Parallel(n_jobs=1)]: Done   8 out of   8 | elapsed:    0.0s remaining:    0.0s\n",
      "[Parallel(n_jobs=1)]: Done   9 out of   9 | elapsed:    0.0s remaining:    0.0s\n"
     ]
    },
    {
     "name": "stdout",
     "output_type": "stream",
     "text": [
      "\n",
      "[CV]  features__pca__n_components=2, features__univ_select__k=1, svm__C=10, score=0.9411764705882353, total=   0.0s\n",
      "[CV] features__pca__n_components=2, features__univ_select__k=1, svm__C=10 \n",
      "[CV]  features__pca__n_components=2, features__univ_select__k=1, svm__C=10, score=0.9791666666666666, total=   0.0s\n",
      "[CV] features__pca__n_components=2, features__univ_select__k=2, svm__C=0.1 \n",
      "[CV]  features__pca__n_components=2, features__univ_select__k=2, svm__C=0.1, score=0.9803921568627451, total=   0.0s\n",
      "[CV] features__pca__n_components=2, features__univ_select__k=2, svm__C=0.1 \n",
      "[CV]  features__pca__n_components=2, features__univ_select__k=2, svm__C=0.1, score=0.9411764705882353, total=   0.0s\n",
      "[CV] features__pca__n_components=2, features__univ_select__k=2, svm__C=0.1 \n",
      "[CV]  features__pca__n_components=2, features__univ_select__k=2, svm__C=0.1, score=0.9791666666666666, total=   0.0s\n",
      "[CV] features__pca__n_components=2, features__univ_select__k=2, svm__C=1 \n",
      "[CV]  features__pca__n_components=2, features__univ_select__k=2, svm__C=1, score=1.0, total=   0.0s\n",
      "[CV] features__pca__n_components=2, features__univ_select__k=2, svm__C=1 \n",
      "[CV]  features__pca__n_components=2, features__univ_select__k=2, svm__C=1, score=0.9607843137254902, total=   0.0s\n",
      "[CV] features__pca__n_components=2, features__univ_select__k=2, svm__C=1 \n",
      "[CV]  features__pca__n_components=2, features__univ_select__k=2, svm__C=1, score=0.9791666666666666, total=   0.0s\n",
      "[CV] features__pca__n_components=2, features__univ_select__k=2, svm__C=10 \n",
      "[CV]  features__pca__n_components=2, features__univ_select__k=2, svm__C=10, score=0.9803921568627451, total=   0.0s\n",
      "[CV] features__pca__n_components=2, features__univ_select__k=2, svm__C=10 \n",
      "[CV]  features__pca__n_components=2, features__univ_select__k=2, svm__C=10, score=0.9215686274509803, total=   0.0s\n",
      "[CV] features__pca__n_components=2, features__univ_select__k=2, svm__C=10 \n",
      "[CV]  features__pca__n_components=2, features__univ_select__k=2, svm__C=10, score=1.0, total=   0.0s\n",
      "[CV] features__pca__n_components=3, features__univ_select__k=1, svm__C=0.1 \n",
      "[CV]  features__pca__n_components=3, features__univ_select__k=1, svm__C=0.1, score=0.9803921568627451, total=   0.0s\n",
      "[CV] features__pca__n_components=3, features__univ_select__k=1, svm__C=0.1 \n",
      "[CV]  features__pca__n_components=3, features__univ_select__k=1, svm__C=0.1, score=0.9411764705882353, total=   0.0s\n",
      "[CV] features__pca__n_components=3, features__univ_select__k=1, svm__C=0.1 \n",
      "[CV]  features__pca__n_components=3, features__univ_select__k=1, svm__C=0.1, score=0.9791666666666666, total=   0.0s\n",
      "[CV] features__pca__n_components=3, features__univ_select__k=1, svm__C=1 \n",
      "[CV]  features__pca__n_components=3, features__univ_select__k=1, svm__C=1, score=1.0, total=   0.0s\n",
      "[CV] features__pca__n_components=3, features__univ_select__k=1, svm__C=1 \n",
      "[CV]  features__pca__n_components=3, features__univ_select__k=1, svm__C=1, score=0.9411764705882353, total=   0.0s\n",
      "[CV] features__pca__n_components=3, features__univ_select__k=1, svm__C=1 \n",
      "[CV]  features__pca__n_components=3, features__univ_select__k=1, svm__C=1, score=0.9791666666666666, total=   0.0s\n",
      "[CV] features__pca__n_components=3, features__univ_select__k=1, svm__C=10 \n",
      "[CV]  features__pca__n_components=3, features__univ_select__k=1, svm__C=10, score=1.0, total=   0.0s\n",
      "[CV] features__pca__n_components=3, features__univ_select__k=1, svm__C=10 \n",
      "[CV]  features__pca__n_components=3, features__univ_select__k=1, svm__C=10, score=0.9215686274509803, total=   0.0s\n",
      "[CV] features__pca__n_components=3, features__univ_select__k=1, svm__C=10 \n",
      "[CV]  features__pca__n_components=3, features__univ_select__k=1, svm__C=10, score=1.0, total=   0.0s\n",
      "[CV] features__pca__n_components=3, features__univ_select__k=2, svm__C=0.1 \n",
      "[CV]  features__pca__n_components=3, features__univ_select__k=2, svm__C=0.1, score=0.9803921568627451, total=   0.0s\n",
      "[CV] features__pca__n_components=3, features__univ_select__k=2, svm__C=0.1 \n",
      "[CV]  features__pca__n_components=3, features__univ_select__k=2, svm__C=0.1, score=0.9411764705882353, total=   0.0s\n",
      "[CV] features__pca__n_components=3, features__univ_select__k=2, svm__C=0.1 \n",
      "[CV]  features__pca__n_components=3, features__univ_select__k=2, svm__C=0.1, score=0.9791666666666666, total=   0.0s\n",
      "[CV] features__pca__n_components=3, features__univ_select__k=2, svm__C=1 \n",
      "[CV]  features__pca__n_components=3, features__univ_select__k=2, svm__C=1, score=1.0, total=   0.0s\n",
      "[CV] features__pca__n_components=3, features__univ_select__k=2, svm__C=1 \n",
      "[CV]  features__pca__n_components=3, features__univ_select__k=2, svm__C=1, score=0.9607843137254902, total=   0.0s\n",
      "[CV] features__pca__n_components=3, features__univ_select__k=2, svm__C=1 \n",
      "[CV]  features__pca__n_components=3, features__univ_select__k=2, svm__C=1, score=0.9791666666666666, total=   0.0s\n",
      "[CV] features__pca__n_components=3, features__univ_select__k=2, svm__C=10 \n",
      "[CV]  features__pca__n_components=3, features__univ_select__k=2, svm__C=10, score=1.0, total=   0.0s\n",
      "[CV] features__pca__n_components=3, features__univ_select__k=2, svm__C=10 \n",
      "[CV]  features__pca__n_components=3, features__univ_select__k=2, svm__C=10, score=0.9215686274509803, total=   0.0s\n",
      "[CV] features__pca__n_components=3, features__univ_select__k=2, svm__C=10 \n",
      "[CV]  features__pca__n_components=3, features__univ_select__k=2, svm__C=10, score=1.0, total=   0.0s\n"
     ]
    },
    {
     "name": "stderr",
     "output_type": "stream",
     "text": [
      "[Parallel(n_jobs=1)]: Done  54 out of  54 | elapsed:    0.4s finished\n"
     ]
    },
    {
     "data": {
      "text/plain": [
       "GridSearchCV(cv=None, error_score='raise',\n",
       "       estimator=Pipeline(memory=None,\n",
       "     steps=[('features', FeatureUnion(n_jobs=1,\n",
       "       transformer_list=[('pca', PCA(copy=True, iterated_power='auto', n_components=2, random_state=None,\n",
       "  svd_solver='auto', tol=0.0, whiten=False)), ('univ_select', SelectKBest(k=1, score_func=<function f_classif at 0x000000000447A048>))],\n",
       "       transfo...,\n",
       "  max_iter=-1, probability=False, random_state=None, shrinking=True,\n",
       "  tol=0.001, verbose=False))]),\n",
       "       fit_params=None, iid=True, n_jobs=1,\n",
       "       param_grid={'svm__C': [0.1, 1, 10], 'features__univ_select__k': [1, 2], 'features__pca__n_components': [1, 2, 3]},\n",
       "       pre_dispatch='2*n_jobs', refit=True, return_train_score=True,\n",
       "       scoring=None, verbose=10)"
      ]
     },
     "execution_count": 18,
     "metadata": {},
     "output_type": "execute_result"
    }
   ],
   "source": [
    "grid_search = GridSearchCV(pipeline, param_grid= param_grid, verbose = 10)\n",
    "grid_search.fit(X,y)"
   ]
  },
  {
   "cell_type": "code",
   "execution_count": 19,
   "metadata": {
    "scrolled": true
   },
   "outputs": [
    {
     "name": "stdout",
     "output_type": "stream",
     "text": [
      "Pipeline(memory=None,\n",
      "     steps=[('features', FeatureUnion(n_jobs=1,\n",
      "       transformer_list=[('pca', PCA(copy=True, iterated_power='auto', n_components=2, random_state=None,\n",
      "  svd_solver='auto', tol=0.0, whiten=False)), ('univ_select', SelectKBest(k=2, score_func=<function f_classif at 0x000000000447A048>))],\n",
      "       transfo...,\n",
      "  max_iter=-1, probability=False, random_state=None, shrinking=True,\n",
      "  tol=0.001, verbose=False))])\n"
     ]
    }
   ],
   "source": [
    "print(grid_search.best_estimator_)"
   ]
  },
  {
   "cell_type": "code",
   "execution_count": null,
   "metadata": {
    "collapsed": true
   },
   "outputs": [],
   "source": []
  }
 ],
 "metadata": {
  "kernelspec": {
   "display_name": "Python 3",
   "language": "python",
   "name": "python3"
  },
  "language_info": {
   "codemirror_mode": {
    "name": "ipython",
    "version": 3
   },
   "file_extension": ".py",
   "mimetype": "text/x-python",
   "name": "python",
   "nbconvert_exporter": "python",
   "pygments_lexer": "ipython3",
   "version": "3.5.4"
  }
 },
 "nbformat": 4,
 "nbformat_minor": 2
}
